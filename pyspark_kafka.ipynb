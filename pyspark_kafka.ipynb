{
 "cells": [
  {
   "cell_type": "markdown",
   "id": "a237358d",
   "metadata": {},
   "source": [
    "<h1> Putting data in Kafka </h1>"
   ]
  },
  {
   "cell_type": "code",
   "execution_count": 1,
   "id": "b06e9c41",
   "metadata": {},
   "outputs": [
    {
     "name": "stdout",
     "output_type": "stream",
     "text": [
      "Requirement already satisfied: kafka-python in c:\\users\\user\\anaconda3\\lib\\site-packages (2.0.2)\n"
     ]
    }
   ],
   "source": [
    "!pip install kafka-python"
   ]
  },
  {
   "cell_type": "code",
   "execution_count": 2,
   "id": "6d8d6889",
   "metadata": {},
   "outputs": [],
   "source": [
    "from json import dumps\n",
    "from kafka import KafkaProducer\n",
    "import pandas as pd \n",
    "import json "
   ]
  },
  {
   "cell_type": "code",
   "execution_count": 3,
   "id": "82367561",
   "metadata": {},
   "outputs": [],
   "source": [
    "producer = KafkaProducer(bootstrap_servers=('localhost:9092'),\n",
    "                         value_serializer=lambda x:\n",
    "                         dumps(x).encode('utf-8'))"
   ]
  },
  {
   "cell_type": "code",
   "execution_count": 4,
   "id": "09d03fed",
   "metadata": {},
   "outputs": [
    {
     "data": {
      "text/html": [
       "<div>\n",
       "<style scoped>\n",
       "    .dataframe tbody tr th:only-of-type {\n",
       "        vertical-align: middle;\n",
       "    }\n",
       "\n",
       "    .dataframe tbody tr th {\n",
       "        vertical-align: top;\n",
       "    }\n",
       "\n",
       "    .dataframe thead th {\n",
       "        text-align: right;\n",
       "    }\n",
       "</style>\n",
       "<table border=\"1\" class=\"dataframe\">\n",
       "  <thead>\n",
       "    <tr style=\"text-align: right;\">\n",
       "      <th></th>\n",
       "      <th>Unnamed: 0</th>\n",
       "      <th>Year</th>\n",
       "      <th>Quarter</th>\n",
       "      <th>Month</th>\n",
       "      <th>DayofMonth</th>\n",
       "      <th>DayOfWeek</th>\n",
       "      <th>FlightDate</th>\n",
       "      <th>Reporting_Airline</th>\n",
       "      <th>DOT_ID_Reporting_Airline</th>\n",
       "      <th>IATA_CODE_Reporting_Airline</th>\n",
       "      <th>...</th>\n",
       "      <th>Div4WheelsOff</th>\n",
       "      <th>Div4TailNum</th>\n",
       "      <th>Div5Airport</th>\n",
       "      <th>Div5AirportID</th>\n",
       "      <th>Div5AirportSeqID</th>\n",
       "      <th>Div5WheelsOn</th>\n",
       "      <th>Div5TotalGTime</th>\n",
       "      <th>Div5LongestGTime</th>\n",
       "      <th>Div5WheelsOff</th>\n",
       "      <th>Div5TailNum</th>\n",
       "    </tr>\n",
       "  </thead>\n",
       "  <tbody>\n",
       "    <tr>\n",
       "      <th>0</th>\n",
       "      <td>0</td>\n",
       "      <td>1998</td>\n",
       "      <td>1</td>\n",
       "      <td>1</td>\n",
       "      <td>2</td>\n",
       "      <td>5</td>\n",
       "      <td>1998-01-02</td>\n",
       "      <td>NW</td>\n",
       "      <td>19386</td>\n",
       "      <td>NW</td>\n",
       "      <td>...</td>\n",
       "      <td>NaN</td>\n",
       "      <td>NaN</td>\n",
       "      <td>NaN</td>\n",
       "      <td>NaN</td>\n",
       "      <td>NaN</td>\n",
       "      <td>NaN</td>\n",
       "      <td>NaN</td>\n",
       "      <td>NaN</td>\n",
       "      <td>NaN</td>\n",
       "      <td>NaN</td>\n",
       "    </tr>\n",
       "    <tr>\n",
       "      <th>1</th>\n",
       "      <td>1</td>\n",
       "      <td>2009</td>\n",
       "      <td>2</td>\n",
       "      <td>5</td>\n",
       "      <td>28</td>\n",
       "      <td>4</td>\n",
       "      <td>2009-05-28</td>\n",
       "      <td>FL</td>\n",
       "      <td>20437</td>\n",
       "      <td>FL</td>\n",
       "      <td>...</td>\n",
       "      <td>NaN</td>\n",
       "      <td>NaN</td>\n",
       "      <td>NaN</td>\n",
       "      <td>NaN</td>\n",
       "      <td>NaN</td>\n",
       "      <td>NaN</td>\n",
       "      <td>NaN</td>\n",
       "      <td>NaN</td>\n",
       "      <td>NaN</td>\n",
       "      <td>NaN</td>\n",
       "    </tr>\n",
       "    <tr>\n",
       "      <th>2</th>\n",
       "      <td>2</td>\n",
       "      <td>2013</td>\n",
       "      <td>2</td>\n",
       "      <td>6</td>\n",
       "      <td>29</td>\n",
       "      <td>6</td>\n",
       "      <td>2013-06-29</td>\n",
       "      <td>MQ</td>\n",
       "      <td>20398</td>\n",
       "      <td>MQ</td>\n",
       "      <td>...</td>\n",
       "      <td>NaN</td>\n",
       "      <td>NaN</td>\n",
       "      <td>NaN</td>\n",
       "      <td>NaN</td>\n",
       "      <td>NaN</td>\n",
       "      <td>NaN</td>\n",
       "      <td>NaN</td>\n",
       "      <td>NaN</td>\n",
       "      <td>NaN</td>\n",
       "      <td>NaN</td>\n",
       "    </tr>\n",
       "    <tr>\n",
       "      <th>3</th>\n",
       "      <td>3</td>\n",
       "      <td>2010</td>\n",
       "      <td>3</td>\n",
       "      <td>8</td>\n",
       "      <td>31</td>\n",
       "      <td>2</td>\n",
       "      <td>2010-08-31</td>\n",
       "      <td>DL</td>\n",
       "      <td>19790</td>\n",
       "      <td>DL</td>\n",
       "      <td>...</td>\n",
       "      <td>NaN</td>\n",
       "      <td>NaN</td>\n",
       "      <td>NaN</td>\n",
       "      <td>NaN</td>\n",
       "      <td>NaN</td>\n",
       "      <td>NaN</td>\n",
       "      <td>NaN</td>\n",
       "      <td>NaN</td>\n",
       "      <td>NaN</td>\n",
       "      <td>NaN</td>\n",
       "    </tr>\n",
       "    <tr>\n",
       "      <th>4</th>\n",
       "      <td>4</td>\n",
       "      <td>2006</td>\n",
       "      <td>1</td>\n",
       "      <td>1</td>\n",
       "      <td>15</td>\n",
       "      <td>7</td>\n",
       "      <td>2006-01-15</td>\n",
       "      <td>US</td>\n",
       "      <td>20355</td>\n",
       "      <td>US</td>\n",
       "      <td>...</td>\n",
       "      <td>NaN</td>\n",
       "      <td>NaN</td>\n",
       "      <td>NaN</td>\n",
       "      <td>NaN</td>\n",
       "      <td>NaN</td>\n",
       "      <td>NaN</td>\n",
       "      <td>NaN</td>\n",
       "      <td>NaN</td>\n",
       "      <td>NaN</td>\n",
       "      <td>NaN</td>\n",
       "    </tr>\n",
       "  </tbody>\n",
       "</table>\n",
       "<p>5 rows × 110 columns</p>\n",
       "</div>"
      ],
      "text/plain": [
       "   Unnamed: 0  Year  Quarter  Month  DayofMonth  DayOfWeek  FlightDate  \\\n",
       "0           0  1998        1      1           2          5  1998-01-02   \n",
       "1           1  2009        2      5          28          4  2009-05-28   \n",
       "2           2  2013        2      6          29          6  2013-06-29   \n",
       "3           3  2010        3      8          31          2  2010-08-31   \n",
       "4           4  2006        1      1          15          7  2006-01-15   \n",
       "\n",
       "  Reporting_Airline  DOT_ID_Reporting_Airline IATA_CODE_Reporting_Airline  \\\n",
       "0                NW                     19386                          NW   \n",
       "1                FL                     20437                          FL   \n",
       "2                MQ                     20398                          MQ   \n",
       "3                DL                     19790                          DL   \n",
       "4                US                     20355                          US   \n",
       "\n",
       "   ... Div4WheelsOff  Div4TailNum  Div5Airport  Div5AirportID  \\\n",
       "0  ...           NaN          NaN          NaN            NaN   \n",
       "1  ...           NaN          NaN          NaN            NaN   \n",
       "2  ...           NaN          NaN          NaN            NaN   \n",
       "3  ...           NaN          NaN          NaN            NaN   \n",
       "4  ...           NaN          NaN          NaN            NaN   \n",
       "\n",
       "   Div5AirportSeqID Div5WheelsOn Div5TotalGTime Div5LongestGTime  \\\n",
       "0               NaN          NaN            NaN              NaN   \n",
       "1               NaN          NaN            NaN              NaN   \n",
       "2               NaN          NaN            NaN              NaN   \n",
       "3               NaN          NaN            NaN              NaN   \n",
       "4               NaN          NaN            NaN              NaN   \n",
       "\n",
       "   Div5WheelsOff Div5TailNum  \n",
       "0            NaN         NaN  \n",
       "1            NaN         NaN  \n",
       "2            NaN         NaN  \n",
       "3            NaN         NaN  \n",
       "4            NaN         NaN  \n",
       "\n",
       "[5 rows x 110 columns]"
      ]
     },
     "execution_count": 4,
     "metadata": {},
     "output_type": "execute_result"
    }
   ],
   "source": [
    "data = pd.read_csv(\"airlines1.csv\")\n",
    "data.head()"
   ]
  },
  {
   "cell_type": "code",
   "execution_count": 5,
   "id": "8cf97f78",
   "metadata": {},
   "outputs": [
    {
     "data": {
      "text/html": [
       "<div>\n",
       "<style scoped>\n",
       "    .dataframe tbody tr th:only-of-type {\n",
       "        vertical-align: middle;\n",
       "    }\n",
       "\n",
       "    .dataframe tbody tr th {\n",
       "        vertical-align: top;\n",
       "    }\n",
       "\n",
       "    .dataframe thead th {\n",
       "        text-align: right;\n",
       "    }\n",
       "</style>\n",
       "<table border=\"1\" class=\"dataframe\">\n",
       "  <thead>\n",
       "    <tr style=\"text-align: right;\">\n",
       "      <th></th>\n",
       "      <th>Unnamed: 0</th>\n",
       "      <th>Year</th>\n",
       "      <th>Reporting_Airline</th>\n",
       "    </tr>\n",
       "  </thead>\n",
       "  <tbody>\n",
       "    <tr>\n",
       "      <th>0</th>\n",
       "      <td>0</td>\n",
       "      <td>1998</td>\n",
       "      <td>NW</td>\n",
       "    </tr>\n",
       "    <tr>\n",
       "      <th>1</th>\n",
       "      <td>1</td>\n",
       "      <td>2009</td>\n",
       "      <td>FL</td>\n",
       "    </tr>\n",
       "    <tr>\n",
       "      <th>2</th>\n",
       "      <td>2</td>\n",
       "      <td>2013</td>\n",
       "      <td>MQ</td>\n",
       "    </tr>\n",
       "    <tr>\n",
       "      <th>3</th>\n",
       "      <td>3</td>\n",
       "      <td>2010</td>\n",
       "      <td>DL</td>\n",
       "    </tr>\n",
       "    <tr>\n",
       "      <th>4</th>\n",
       "      <td>4</td>\n",
       "      <td>2006</td>\n",
       "      <td>US</td>\n",
       "    </tr>\n",
       "  </tbody>\n",
       "</table>\n",
       "</div>"
      ],
      "text/plain": [
       "   Unnamed: 0  Year Reporting_Airline\n",
       "0           0  1998                NW\n",
       "1           1  2009                FL\n",
       "2           2  2013                MQ\n",
       "3           3  2010                DL\n",
       "4           4  2006                US"
      ]
     },
     "execution_count": 5,
     "metadata": {},
     "output_type": "execute_result"
    }
   ],
   "source": [
    "df = data[[\"Unnamed: 0\", \"Year\", \"Reporting_Airline\"]]\n",
    "df.head()"
   ]
  },
  {
   "cell_type": "code",
   "execution_count": 6,
   "id": "f4c27212",
   "metadata": {},
   "outputs": [
    {
     "name": "stderr",
     "output_type": "stream",
     "text": [
      "C:\\Users\\User\\anaconda3\\lib\\site-packages\\pandas\\core\\frame.py:5039: SettingWithCopyWarning: \n",
      "A value is trying to be set on a copy of a slice from a DataFrame\n",
      "\n",
      "See the caveats in the documentation: https://pandas.pydata.org/pandas-docs/stable/user_guide/indexing.html#returning-a-view-versus-a-copy\n",
      "  return super().rename(\n"
     ]
    }
   ],
   "source": [
    "df.rename(columns = {'Unnamed: 0': 'id'}, inplace = True)"
   ]
  },
  {
   "cell_type": "code",
   "execution_count": 7,
   "id": "8caae1c3",
   "metadata": {},
   "outputs": [
    {
     "data": {
      "text/html": [
       "<div>\n",
       "<style scoped>\n",
       "    .dataframe tbody tr th:only-of-type {\n",
       "        vertical-align: middle;\n",
       "    }\n",
       "\n",
       "    .dataframe tbody tr th {\n",
       "        vertical-align: top;\n",
       "    }\n",
       "\n",
       "    .dataframe thead th {\n",
       "        text-align: right;\n",
       "    }\n",
       "</style>\n",
       "<table border=\"1\" class=\"dataframe\">\n",
       "  <thead>\n",
       "    <tr style=\"text-align: right;\">\n",
       "      <th></th>\n",
       "      <th>id</th>\n",
       "      <th>Year</th>\n",
       "      <th>Reporting_Airline</th>\n",
       "    </tr>\n",
       "  </thead>\n",
       "  <tbody>\n",
       "    <tr>\n",
       "      <th>0</th>\n",
       "      <td>0</td>\n",
       "      <td>1998</td>\n",
       "      <td>NW</td>\n",
       "    </tr>\n",
       "    <tr>\n",
       "      <th>1</th>\n",
       "      <td>1</td>\n",
       "      <td>2009</td>\n",
       "      <td>FL</td>\n",
       "    </tr>\n",
       "    <tr>\n",
       "      <th>2</th>\n",
       "      <td>2</td>\n",
       "      <td>2013</td>\n",
       "      <td>MQ</td>\n",
       "    </tr>\n",
       "    <tr>\n",
       "      <th>3</th>\n",
       "      <td>3</td>\n",
       "      <td>2010</td>\n",
       "      <td>DL</td>\n",
       "    </tr>\n",
       "    <tr>\n",
       "      <th>4</th>\n",
       "      <td>4</td>\n",
       "      <td>2006</td>\n",
       "      <td>US</td>\n",
       "    </tr>\n",
       "  </tbody>\n",
       "</table>\n",
       "</div>"
      ],
      "text/plain": [
       "   id  Year Reporting_Airline\n",
       "0   0  1998                NW\n",
       "1   1  2009                FL\n",
       "2   2  2013                MQ\n",
       "3   3  2010                DL\n",
       "4   4  2006                US"
      ]
     },
     "execution_count": 7,
     "metadata": {},
     "output_type": "execute_result"
    }
   ],
   "source": [
    "df.head()"
   ]
  },
  {
   "cell_type": "code",
   "execution_count": 8,
   "id": "40bf6023",
   "metadata": {},
   "outputs": [],
   "source": [
    "dict_data = df.to_dict('records')"
   ]
  },
  {
   "cell_type": "code",
   "execution_count": 9,
   "id": "48a69117",
   "metadata": {},
   "outputs": [
    {
     "data": {
      "text/plain": [
       "{'id': 0, 'Year': 1998, 'Reporting_Airline': 'NW'}"
      ]
     },
     "execution_count": 9,
     "metadata": {},
     "output_type": "execute_result"
    }
   ],
   "source": [
    "dict_data[0]"
   ]
  },
  {
   "cell_type": "code",
   "execution_count": 10,
   "id": "9259d868",
   "metadata": {},
   "outputs": [
    {
     "data": {
      "text/plain": [
       "(50001, 3)"
      ]
     },
     "execution_count": 10,
     "metadata": {},
     "output_type": "execute_result"
    }
   ],
   "source": [
    "df.shape"
   ]
  },
  {
   "cell_type": "code",
   "execution_count": 11,
   "id": "c051834c",
   "metadata": {},
   "outputs": [],
   "source": [
    "for e in range(1000):\n",
    "    producer.send(\"airline-topic\",value=dict_data[e], key=json.dumps(dict_data[e][\"id\"]).encode('utf-8'))"
   ]
  },
  {
   "cell_type": "markdown",
   "id": "3f73378a",
   "metadata": {},
   "source": [
    "<h1>Reading data in batches from Spark </h1>"
   ]
  },
  {
   "cell_type": "code",
   "execution_count": 12,
   "id": "75022dc0",
   "metadata": {},
   "outputs": [],
   "source": [
    "from pyspark.sql.functions import *\n",
    "from pyspark.sql.types import *"
   ]
  },
  {
   "cell_type": "code",
   "execution_count": 13,
   "id": "7ff0fd33",
   "metadata": {},
   "outputs": [],
   "source": [
    "import os\n",
    "from pyspark.sql import SparkSession\n",
    "\n",
    "os.environ['PYSPARK_SUBMIT_ARGS'] = \"--packages org.apache.spark:spark-streaming-kafka-0-10_2.12:3.2.0,org.apache.spark:spark-sql-kafka-0-10_2.12:3.2.0 pyspark-shell\"\n",
    "\n",
    "sc = SparkSession.builder.appName('Pyspark_kafka_airline_read_write').getOrCreate()\n",
    "\n",
    "\n",
    "\n",
    "df = sc \\\n",
    "     .read \\\n",
    "     .format(\"kafka\") \\\n",
    "     .option(\"kafka.bootstrap.servers\",\"localhost:9092\") \\\n",
    "     .option(\"subscribe\", \"airline-topic\") \\\n",
    "     .option(\"startingOffsets\",\"earliest\") \\\n",
    "     .option(\"endingOffsets\",\"latest\") \\\n",
    "     .load() \\\n",
    "     .select(\"value\") \\\n",
    "     .selectExpr(\"CAST(value AS STRING) as json\")"
   ]
  },
  {
   "cell_type": "code",
   "execution_count": 14,
   "id": "c52c3fdc",
   "metadata": {},
   "outputs": [
    {
     "name": "stdout",
     "output_type": "stream",
     "text": [
      "+--------------------+\n",
      "|                json|\n",
      "+--------------------+\n",
      "|{\"id\": 0, \"Year\":...|\n",
      "|{\"id\": 1, \"Year\":...|\n",
      "|{\"id\": 2, \"Year\":...|\n",
      "|{\"id\": 3, \"Year\":...|\n",
      "|{\"id\": 4, \"Year\":...|\n",
      "|{\"id\": 5, \"Year\":...|\n",
      "|{\"id\": 6, \"Year\":...|\n",
      "|{\"id\": 7, \"Year\":...|\n",
      "|{\"id\": 8, \"Year\":...|\n",
      "|{\"id\": 9, \"Year\":...|\n",
      "|{\"id\": 10, \"Year\"...|\n",
      "|{\"id\": 11, \"Year\"...|\n",
      "|{\"id\": 12, \"Year\"...|\n",
      "|{\"id\": 13, \"Year\"...|\n",
      "|{\"id\": 14, \"Year\"...|\n",
      "|{\"id\": 15, \"Year\"...|\n",
      "|{\"id\": 16, \"Year\"...|\n",
      "|{\"id\": 17, \"Year\"...|\n",
      "|{\"id\": 18, \"Year\"...|\n",
      "|{\"id\": 19, \"Year\"...|\n",
      "+--------------------+\n",
      "only showing top 20 rows\n",
      "\n"
     ]
    }
   ],
   "source": [
    "df.show()"
   ]
  },
  {
   "cell_type": "code",
   "execution_count": 16,
   "id": "6eedb595",
   "metadata": {},
   "outputs": [],
   "source": [
    "jsonSchema = StructType([StructField(\"id\", StringType(), True), StructField(\"Year\", StringType(), True),\n",
    "                          StructField(\"Reporting_Airline\",StringType(), True)])"
   ]
  },
  {
   "cell_type": "code",
   "execution_count": 17,
   "id": "3ab9dbe5",
   "metadata": {},
   "outputs": [],
   "source": [
    "#Parsing and selecting the right column data \n",
    "df = df.withColumn(\"jsonData\", from_json(col(\"json\"), jsonSchema)) \\\n",
    "                  .select(\"jsonData.*\")"
   ]
  },
  {
   "cell_type": "code",
   "execution_count": 18,
   "id": "7a730fab",
   "metadata": {},
   "outputs": [
    {
     "name": "stdout",
     "output_type": "stream",
     "text": [
      "+---+----+-----------------+\n",
      "| id|Year|Reporting_Airline|\n",
      "+---+----+-----------------+\n",
      "|  0|1998|               NW|\n",
      "|  1|2009|               FL|\n",
      "|  2|2013|               MQ|\n",
      "|  3|2010|               DL|\n",
      "|  4|2006|               US|\n",
      "|  5|1995|               DL|\n",
      "|  6|2006|               CO|\n",
      "|  7|2019|               9E|\n",
      "|  8|2008|               YV|\n",
      "|  9|2018|               WN|\n",
      "| 10|1991|               US|\n",
      "| 11|2014|               WN|\n",
      "| 12|1994|               AA|\n",
      "| 13|2013|               OO|\n",
      "| 14|2003|               UA|\n",
      "| 15|1988|               PI|\n",
      "| 16|2007|               NW|\n",
      "| 17|2015|               AS|\n",
      "| 18|2006|               UA|\n",
      "| 19|2017|               WN|\n",
      "+---+----+-----------------+\n",
      "only showing top 20 rows\n",
      "\n"
     ]
    }
   ],
   "source": [
    "df.show()"
   ]
  },
  {
   "cell_type": "markdown",
   "id": "04ce8c40",
   "metadata": {},
   "source": [
    "<h1> Transformation on data </h1>"
   ]
  },
  {
   "cell_type": "code",
   "execution_count": 19,
   "id": "d63cb191",
   "metadata": {},
   "outputs": [
    {
     "name": "stdout",
     "output_type": "stream",
     "text": [
      "+-----------------+-----+\n",
      "|Reporting_Airline|count|\n",
      "+-----------------+-----+\n",
      "|               UA|  168|\n",
      "|               EA|    8|\n",
      "|               PI|   14|\n",
      "|               NK|    4|\n",
      "|               PS|    2|\n",
      "|               AA|  246|\n",
      "|               NW|  104|\n",
      "|               EV|   54|\n",
      "|               B6|   34|\n",
      "|               HP|   38|\n",
      "|               TW|   34|\n",
      "|               DL|  296|\n",
      "|               OO|  120|\n",
      "|               F9|   16|\n",
      "|               YV|   30|\n",
      "|               TZ|    2|\n",
      "|               US|  164|\n",
      "|               MQ|   94|\n",
      "|               OH|   18|\n",
      "|               HA|   14|\n",
      "+-----------------+-----+\n",
      "only showing top 20 rows\n",
      "\n"
     ]
    }
   ],
   "source": [
    "df.select('Reporting_Airline').groupBy('Reporting_Airline').count().show()"
   ]
  },
  {
   "cell_type": "code",
   "execution_count": 27,
   "id": "24139979",
   "metadata": {},
   "outputs": [],
   "source": [
    "#How many aircrafts are there after 2015\n",
    "df_filtered = df.select('id', 'Year', 'Reporting_Airline').filter('Year >= 2015')"
   ]
  },
  {
   "cell_type": "markdown",
   "id": "6b5c59b3",
   "metadata": {},
   "source": [
    "<h1> Putting data back to Kafka </h1>"
   ]
  },
  {
   "cell_type": "code",
   "execution_count": 28,
   "id": "af06cfb7",
   "metadata": {},
   "outputs": [],
   "source": [
    "query = df_filtered.selectExpr(\"CAST(id AS STRING) AS key\", \"to_json(struct(*)) AS value\") \\\n",
    "                .write \\\n",
    "                .format(\"kafka\") \\\n",
    "                .option('kafka.bootstrap.servers','localhost:9092') \\\n",
    "                .option(\"topic\",\"airline-sink\")\\\n",
    "                .option(\"checkpointLocation\", \"./check\") \\\n",
    "                .save()"
   ]
  },
  {
   "cell_type": "code",
   "execution_count": null,
   "id": "3522a239",
   "metadata": {},
   "outputs": [],
   "source": []
  }
 ],
 "metadata": {
  "kernelspec": {
   "display_name": "Python 3 (ipykernel)",
   "language": "python",
   "name": "python3"
  },
  "language_info": {
   "codemirror_mode": {
    "name": "ipython",
    "version": 3
   },
   "file_extension": ".py",
   "mimetype": "text/x-python",
   "name": "python",
   "nbconvert_exporter": "python",
   "pygments_lexer": "ipython3",
   "version": "3.9.7"
  }
 },
 "nbformat": 4,
 "nbformat_minor": 5
}
